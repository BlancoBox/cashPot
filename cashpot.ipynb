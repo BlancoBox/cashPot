{
 "cells": [
  {
   "cell_type": "code",
   "execution_count": null,
   "metadata": {
    "scrolled": false
   },
   "outputs": [],
   "source": [
    "import turtle as bug\n",
    "\n",
    "bug.setup(width=.75, height=0.5, startx=None, starty=None)\n",
    "bug.title(\"Welcome cashpot!\")\n",
    "bug.bgcolor(\"yellow\")\n",
    "cash=bug.numinput(\"Income\", \"Amount:\", 100, minval=10, maxval=10000)\n",
    "bug.pencolor(\"blue\")\n",
    "bug.penup()\n",
    "bug.goto(10, 100)\n",
    "needs= (0.5 * cash)\n",
    "investment=(cash * .25)\n",
    "ER=(cash * .1)\n",
    "study=(cash * .1)\n",
    "play=(cash * .05)\n",
    "bug.down\n",
    "bug.write('needs='+ str(needs), False, align=\"center\")\n",
    "bug.goto(10, 75)\n",
    "bug.write('investment='+ str(investment), False, align=\"center\")\n",
    "bug.goto(10, 50)\n",
    "bug.write('ER='+ str(ER), False, align=\"center\")\n",
    "bug.goto(10, 25)\n",
    "bug.write('study='+ str(study), False, align=\"center\")\n",
    "bug.goto(10, 125)\n",
    "bug.write('play='+ str(play), False, align=\"center\")\n",
    "bug.goto(10, 150)\n",
    "bug.done()"
   ]
  },
  {
   "cell_type": "code",
   "execution_count": null,
   "metadata": {},
   "outputs": [],
   "source": []
  }
 ],
 "metadata": {
  "kernelspec": {
   "display_name": "Python 3",
   "language": "python",
   "name": "python3"
  },
  "language_info": {
   "codemirror_mode": {
    "name": "ipython",
    "version": 3
   },
   "file_extension": ".py",
   "mimetype": "text/x-python",
   "name": "python",
   "nbconvert_exporter": "python",
   "pygments_lexer": "ipython3",
   "version": "3.7.4"
  }
 },
 "nbformat": 4,
 "nbformat_minor": 2
}
